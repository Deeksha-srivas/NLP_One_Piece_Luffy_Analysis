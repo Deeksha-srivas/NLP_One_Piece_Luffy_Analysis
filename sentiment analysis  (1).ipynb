{
 "cells": [
  {
   "cell_type": "code",
   "execution_count": 2,
   "id": "65c591fd",
   "metadata": {},
   "outputs": [],
   "source": [
    "import requests\n",
    "from bs4 import BeautifulSoup\n",
    "\n"
   ]
  },
  {
   "cell_type": "code",
   "execution_count": 11,
   "id": "34d23e8b",
   "metadata": {},
   "outputs": [
    {
     "name": "stdout",
     "output_type": "stream",
     "text": [
      "Straw Hat Grand Fleet;Four Emperors;Clan of D.;Dadan Family (former);Baratie (temporary, former);[3]Impel Down (former);Ninja-Pirate-Mink-Samurai Alliance (disbanded)\n",
      "Luffy-tarou[6] (ルフィ太郎, Rufitarō?, English versions: \"Luffytaro\")[7]Luffy-no-Umi (ルフィの海, Rufinoumi?)[8]Joy Boy (ジョイボーイ, Joi Bōi?)[9]\n",
      "17 (pre-timeskip);[11]19 (after timeskip)[12][13]\n",
      "172 cm (5'8\") (pre-timeskip)[15]174 cm (5'9\") (after timeskip)[12][13]\n",
      "1,500,000,000[18]500,000,000[19]400,000,000[20]300,000,000[21]100,000,000[22]30,000,000[23]\n",
      "Monkey D. Luffy, commonly known as \"Straw Hat Luffy\" or simply \"Straw Hat\",[10] is the founder, captain, and strongest combatant of the increasingly infamous and powerful Straw Hat Pirates.[26][27] He fearlessly pursues the legendary treasure of the late Gol D. Roger in order to become the new Pirate King[28] and reach a further, untold dream (currently known to only his crew, family and closest friends).[29][30] He believes that being the Pirate King means having the most freedom in the world.[31]\n",
      "\n",
      "Born on Dawn Island, Luffy is the son of Revolutionary leader Monkey D. Dragon[32] and grandson of the Marine hero Monkey D. Garp[33] and as such is a member of the Clan of D. Most of his childhood was shaped by Garp and Curly Dadan,[34] under whose care he befriended and swore brotherhood to the late Portgas D. \"Fire Fist\" Ace[35] and Sabo.[36] However, he draws his greatest inspiration from the pirate \"Red-Haired\" Shanks, who (unwittingly) enabled him to eat the Devil Fruit that turned his body into rubber,[37] sacrificed an arm to save his life, and gifted his signature straw hat as a symbol of their vow to reunite someday, after Luffy became a great pirate.[38]\n",
      "\n",
      "As a pirate, Luffy has actively opposed countless regional, national, and global powers, beginning with several established East Blue pirates and extending to the Marines,  the Seven Warlords of the Sea, Cipher Pol, the World Nobles, and even the Four Emperors of the New World. Despite his young age and relatively short career, he has triumphed over a majority of these, successfully invading and indirectly causing the annihilation of Enies Lobby, escaping the impregnable Impel Down, enabling several key developments in the Summit War of Marineford, and defeating three Warlords and an Emperor in direct combat. At the same time, he carries a great penchant for attracting friends and allies; in addition to personally engaging every member of his crew, he has earned regard and gratitude among many nations, fellow pirates, the Revolutionary Army, and even several Marines.\n",
      "\n",
      "Luffy has gained wide infamy through his accomplishments, heritage, and general recklessness, drawing many large bounties[23][22][21][20][19][18] as well as the focused hostility of the World Government, Marine Headquarters, and Fleet Admiral Sakazuki in particular.[39] Currently, he is recognized as a central member of the Worst Generation,[40]  the unwilling leader of the seven-crew Straw Hat Grand Fleet, and—in wake of defeating Kaidou during the Raid on Onigashima—one of the Four Emperors, with a bounty of 3,000,000,000.[4] Since the awakening of the Gomu Gomu no Mi after centuries, Luffy has also been heralded by a few as the second coming of Joy Boy, as well as the next Sun God Nika.\n",
      "\n",
      "He is the main protagonist of the One Piece manga and anime series.\n",
      "\n",
      "Luffy is a young man of average height with shaggy black hair, round black eyes, and a slim muscular build. He is renowned for his trademark yellow straw hat with a red hatband (from which he gets his epithet \"Straw Hat Luffy\"), which was lent to him when he was young by the legendary pirate captain, \"Red-Haired\" Shanks,[38] who in turn received it from Gol D. Roger.[41] Before the timeskip, his main outfit consisted of a red vest with three gold buttons, light blue denim shorts cuffed just above his knees, and tan sandals. Luffy also has a scar with two stitches underneath his left eye, which he earned as a child by stabbing his face to show Shanks that he was tough enough to be a pirate.[42] He was severely wounded by Akainu in the Summit War of Marineford,[43] leaving a large X-shaped scar on his chest.[44]\n",
      "\n",
      "Similar to most of his male crewmates, Luffy has the same outfit throughout most of the series. Luffy will often wear a different outfit to suit the climate of an island (such as a hooded parka on Drum Island[45] or desert robes in Arabasta[46]) but will switch back to his trademark red vest and blue shorts after the adventures on that island are over. Despite this, he will wear his usual outfit in different colors and has been known to sport other miscellaneous items on his person from time to time like in Thriller Bark and Sabaody Archipelago. According to Eiichiro Oda in 37 Volume SBS, Luffy does not know how to dress stylishly so sometimes he is advised on how to dress by more fashionable team members, Nami, Usopp, Sanji, and Robin.[47]\n",
      "\n",
      "No matter where he is, Luffy wears his Straw Hat through absolutely everything, though at the start, the hat was prone to get knocked off his head easily, forcing Luffy to either put it aside or have someone hold onto it during fights. From the Arabasta Arc onward, he has gotten a string strap for it, which was sewn on by Nami, allowing the hat to hang on his back from his neck during fights, or stay more securely on his head for when he's in the air or upside-down.\n",
      "\n",
      "During his return to Marineford to give a silent prayer, Luffy was briefly shown with four characters written on his right arm spelling 3D2Y,[58] with the 3D crossed out to symbolize that the Straw Hat Pirates should meet up in 2 years (2Y) rather than the 3 days (3D) as planned after fleeing from Bartholomew Kuma.[59]\n",
      "\n",
      "During his journey, Luffy has used the power of his Devil Fruit in creative ways, many of which involve altering his body. The greatest example of his altered appearance is the creation of his Gear techniques which dramatically affect his entire body:\n",
      "\n",
      "After those two years, a few things have changed. He has grown slightly taller and is shown to be significantly more muscular due to his training. This can be seen in his slightly thicker neck, more pronounced deltoids, and a better-defined chest, which shows the X-shaped scar he received by then-Admiral Akainu covering most of it.[60] His new \"main\" outfit retains his straw hat and light blue shorts, but instead of a vest Luffy wears an open, 3/4-sleeved red cardigan with four gold buttons and with a yellow sash tied around his waist with the end hanging from his left hip (somewhat reminiscent of Gol D. Roger's outfit).\n",
      "\n",
      "Due to Luffy's increasing notoriety in addition to the increasing strength of his foes, after the timeskip he finds himself more often dressed in disguises to mask his identity, with varying levels of sophistication. Despite this, he still never loses his trademark straw hat and instead opts to at times cover it with other headwear.\n",
      "\n",
      "After the two-year timeskip, Luffy developed another two Gears, with one of them having its own sub-transformations, as well as significantly changing Gear 3:\n",
      "\n",
      "Similarly to the main series, Luffy wears his standard outfit in most non-canon material. Starting with Movie 11, his standard wear is completely absent with very few exceptions.\n",
      "\n"
     ]
    }
   ],
   "source": [
    "import requests\n",
    "from bs4 import BeautifulSoup\n",
    "\n",
    "# URL of the Yowamushi Pedal Wiki page\n",
    "url = \"https://onepiece.fandom.com/wiki/Monkey_D._Luffy\"\n",
    "\n",
    "# Headers to simulate a real browser request (prevents blocks)\n",
    "headers = {\n",
    "    \"User-Agent\": \"Mozilla/5.0 (Windows NT 10.0; Win64; x64) AppleWebKit/537.36 (KHTML, like Gecko) Chrome/119.0.0.0 Safari/537.36\"\n",
    "}\n",
    "\n",
    "# Send HTTP GET request\n",
    "response = requests.get(url, headers=headers)\n",
    "\n",
    "# Check if request was successful\n",
    "if response.status_code == 200:\n",
    "    # Parse the HTML\n",
    "    soup = BeautifulSoup(response.text, \"lxml\")\n",
    "\n",
    "    # Example: Extract all paragraph texts\n",
    "    paragraphs = soup.find_all('p')\n",
    "    for paragraph in paragraphs:\n",
    "        print(paragraph.text)\n",
    "\n",
    "else:\n",
    "    print(f\"Failed to retrieve the page. Status code: {response.status_code}\")\n"
   ]
  },
  {
   "cell_type": "code",
   "execution_count": 12,
   "id": "8825202a",
   "metadata": {},
   "outputs": [
    {
     "name": "stderr",
     "output_type": "stream",
     "text": [
      "[nltk_data] Downloading package punkt to\n",
      "[nltk_data]     C:\\Users\\DELL\\AppData\\Roaming\\nltk_data...\n",
      "[nltk_data]   Unzipping tokenizers\\punkt.zip.\n"
     ]
    },
    {
     "data": {
      "text/plain": [
       "True"
      ]
     },
     "execution_count": 12,
     "metadata": {},
     "output_type": "execute_result"
    }
   ],
   "source": [
    "import nltk\n",
    "\n",
    "# Download the nltk punkt data for sentence tokenization\n",
    "nltk.download('punkt')"
   ]
  },
  {
   "cell_type": "code",
   "execution_count": 13,
   "id": "7e260201",
   "metadata": {},
   "outputs": [],
   "source": [
    "\n",
    "sentences = []\n",
    "for paragraph in paragraphs:\n",
    " sentences.extend(nltk.sent_tokenize(paragraph.text))"
   ]
  },
  {
   "cell_type": "code",
   "execution_count": 14,
   "id": "3988c508",
   "metadata": {},
   "outputs": [],
   "source": [
    "import re"
   ]
  },
  {
   "cell_type": "code",
   "execution_count": 16,
   "id": "430500ce",
   "metadata": {},
   "outputs": [],
   "source": [
    "cleaned_sentences = [re.sub(r'\\[.*?\\]', '', sentence) for sentence in sentences]\n"
   ]
  },
  {
   "cell_type": "code",
   "execution_count": 17,
   "id": "4a168f82",
   "metadata": {},
   "outputs": [],
   "source": [
    "import pandas as pd\n",
    "import numpy as np"
   ]
  },
  {
   "cell_type": "code",
   "execution_count": 18,
   "id": "00be1613",
   "metadata": {},
   "outputs": [],
   "source": [
    "#Create a DataFrame\n",
    "data = {'Sentences': cleaned_sentences}\n",
    "df = pd.DataFrame(data)\n",
    "\n",
    "# Save DataFrame to a CSV file\n",
    "df.to_csv('sentences.csv', index=False)"
   ]
  },
  {
   "cell_type": "code",
   "execution_count": 19,
   "id": "1c339d62",
   "metadata": {},
   "outputs": [
    {
     "data": {
      "text/html": [
       "<div>\n",
       "<style scoped>\n",
       "    .dataframe tbody tr th:only-of-type {\n",
       "        vertical-align: middle;\n",
       "    }\n",
       "\n",
       "    .dataframe tbody tr th {\n",
       "        vertical-align: top;\n",
       "    }\n",
       "\n",
       "    .dataframe thead th {\n",
       "        text-align: right;\n",
       "    }\n",
       "</style>\n",
       "<table border=\"1\" class=\"dataframe\">\n",
       "  <thead>\n",
       "    <tr style=\"text-align: right;\">\n",
       "      <th></th>\n",
       "      <th>Sentences</th>\n",
       "    </tr>\n",
       "  </thead>\n",
       "  <tbody>\n",
       "    <tr>\n",
       "      <th>0</th>\n",
       "      <td>Straw Hat Grand Fleet;Four Emperors;Clan of D....</td>\n",
       "    </tr>\n",
       "    <tr>\n",
       "      <th>1</th>\n",
       "      <td>Luffy-tarou (ルフィ太郎, Rufitarō?, English version...</td>\n",
       "    </tr>\n",
       "    <tr>\n",
       "      <th>2</th>\n",
       "      <td>)Joy Boy (ジョイボーイ, Joi Bōi?</td>\n",
       "    </tr>\n",
       "    <tr>\n",
       "      <th>3</th>\n",
       "      <td>)</td>\n",
       "    </tr>\n",
       "    <tr>\n",
       "      <th>4</th>\n",
       "      <td>17 (pre-timeskip);19 (after timeskip)</td>\n",
       "    </tr>\n",
       "    <tr>\n",
       "      <th>5</th>\n",
       "      <td>172 cm (5'8\") (pre-timeskip)174 cm (5'9\") (aft...</td>\n",
       "    </tr>\n",
       "    <tr>\n",
       "      <th>6</th>\n",
       "      <td>1,500,000,000500,000,000400,000,000300,000,000...</td>\n",
       "    </tr>\n",
       "    <tr>\n",
       "      <th>7</th>\n",
       "      <td>Monkey D. Luffy, commonly known as \"Straw Hat ...</td>\n",
       "    </tr>\n",
       "    <tr>\n",
       "      <th>8</th>\n",
       "      <td>He fearlessly pursues the legendary treasure ...</td>\n",
       "    </tr>\n",
       "    <tr>\n",
       "      <th>9</th>\n",
       "      <td>He believes that being the Pirate King means ...</td>\n",
       "    </tr>\n",
       "  </tbody>\n",
       "</table>\n",
       "</div>"
      ],
      "text/plain": [
       "                                           Sentences\n",
       "0  Straw Hat Grand Fleet;Four Emperors;Clan of D....\n",
       "1  Luffy-tarou (ルフィ太郎, Rufitarō?, English version...\n",
       "2                         )Joy Boy (ジョイボーイ, Joi Bōi?\n",
       "3                                                  )\n",
       "4              17 (pre-timeskip);19 (after timeskip)\n",
       "5  172 cm (5'8\") (pre-timeskip)174 cm (5'9\") (aft...\n",
       "6  1,500,000,000500,000,000400,000,000300,000,000...\n",
       "7  Monkey D. Luffy, commonly known as \"Straw Hat ...\n",
       "8   He fearlessly pursues the legendary treasure ...\n",
       "9   He believes that being the Pirate King means ..."
      ]
     },
     "execution_count": 19,
     "metadata": {},
     "output_type": "execute_result"
    }
   ],
   "source": [
    "df.head(10)"
   ]
  },
  {
   "cell_type": "code",
   "execution_count": 20,
   "id": "de817c34",
   "metadata": {},
   "outputs": [
    {
     "data": {
      "text/plain": [
       "Sentences    0\n",
       "dtype: int64"
      ]
     },
     "execution_count": 20,
     "metadata": {},
     "output_type": "execute_result"
    }
   ],
   "source": [
    "df.isnull().sum()"
   ]
  },
  {
   "cell_type": "code",
   "execution_count": 21,
   "id": "f26b809f",
   "metadata": {},
   "outputs": [],
   "source": [
    "#Remove null values\n",
    "cleaned_df = df.dropna(subset=df.columns, how='all')"
   ]
  },
  {
   "cell_type": "code",
   "execution_count": 22,
   "id": "760b38e1",
   "metadata": {},
   "outputs": [
    {
     "data": {
      "text/plain": [
       "Sentences    0\n",
       "dtype: int64"
      ]
     },
     "execution_count": 22,
     "metadata": {},
     "output_type": "execute_result"
    }
   ],
   "source": [
    "cleaned_df.isnull().sum()"
   ]
  },
  {
   "cell_type": "code",
   "execution_count": 23,
   "id": "5435c460",
   "metadata": {},
   "outputs": [
    {
     "data": {
      "text/html": [
       "<div>\n",
       "<style scoped>\n",
       "    .dataframe tbody tr th:only-of-type {\n",
       "        vertical-align: middle;\n",
       "    }\n",
       "\n",
       "    .dataframe tbody tr th {\n",
       "        vertical-align: top;\n",
       "    }\n",
       "\n",
       "    .dataframe thead th {\n",
       "        text-align: right;\n",
       "    }\n",
       "</style>\n",
       "<table border=\"1\" class=\"dataframe\">\n",
       "  <thead>\n",
       "    <tr style=\"text-align: right;\">\n",
       "      <th></th>\n",
       "      <th>Sentences</th>\n",
       "    </tr>\n",
       "  </thead>\n",
       "  <tbody>\n",
       "    <tr>\n",
       "      <th>0</th>\n",
       "      <td>Straw Hat Grand Fleet;Four Emperors;Clan of D....</td>\n",
       "    </tr>\n",
       "    <tr>\n",
       "      <th>1</th>\n",
       "      <td>Luffy-tarou (ルフィ太郎, Rufitarō?, English version...</td>\n",
       "    </tr>\n",
       "    <tr>\n",
       "      <th>2</th>\n",
       "      <td>)Joy Boy (ジョイボーイ, Joi Bōi?</td>\n",
       "    </tr>\n",
       "    <tr>\n",
       "      <th>3</th>\n",
       "      <td>)</td>\n",
       "    </tr>\n",
       "    <tr>\n",
       "      <th>4</th>\n",
       "      <td>17 (pre-timeskip);19 (after timeskip)</td>\n",
       "    </tr>\n",
       "    <tr>\n",
       "      <th>5</th>\n",
       "      <td>172 cm (5'8\") (pre-timeskip)174 cm (5'9\") (aft...</td>\n",
       "    </tr>\n",
       "    <tr>\n",
       "      <th>6</th>\n",
       "      <td>1,500,000,000500,000,000400,000,000300,000,000...</td>\n",
       "    </tr>\n",
       "    <tr>\n",
       "      <th>7</th>\n",
       "      <td>Monkey D. Luffy, commonly known as \"Straw Hat ...</td>\n",
       "    </tr>\n",
       "    <tr>\n",
       "      <th>8</th>\n",
       "      <td>He fearlessly pursues the legendary treasure ...</td>\n",
       "    </tr>\n",
       "    <tr>\n",
       "      <th>9</th>\n",
       "      <td>He believes that being the Pirate King means ...</td>\n",
       "    </tr>\n",
       "    <tr>\n",
       "      <th>10</th>\n",
       "      <td></td>\n",
       "    </tr>\n",
       "    <tr>\n",
       "      <th>11</th>\n",
       "      <td>Born on Dawn Island, Luffy is the son of Revol...</td>\n",
       "    </tr>\n",
       "    <tr>\n",
       "      <th>12</th>\n",
       "      <td>However, he draws his greatest inspiration fr...</td>\n",
       "    </tr>\n",
       "    <tr>\n",
       "      <th>13</th>\n",
       "      <td></td>\n",
       "    </tr>\n",
       "    <tr>\n",
       "      <th>14</th>\n",
       "      <td>As a pirate, Luffy has actively opposed countl...</td>\n",
       "    </tr>\n",
       "    <tr>\n",
       "      <th>15</th>\n",
       "      <td>Despite his young age and relatively short car...</td>\n",
       "    </tr>\n",
       "    <tr>\n",
       "      <th>16</th>\n",
       "      <td>At the same time, he carries a great penchant ...</td>\n",
       "    </tr>\n",
       "    <tr>\n",
       "      <th>17</th>\n",
       "      <td>Luffy has gained wide infamy through his accom...</td>\n",
       "    </tr>\n",
       "    <tr>\n",
       "      <th>18</th>\n",
       "      <td>Currently, he is recognized as a central memb...</td>\n",
       "    </tr>\n",
       "    <tr>\n",
       "      <th>19</th>\n",
       "      <td>Since the awakening of the Gomu Gomu no Mi af...</td>\n",
       "    </tr>\n",
       "    <tr>\n",
       "      <th>20</th>\n",
       "      <td>He is the main protagonist of the One Piece ma...</td>\n",
       "    </tr>\n",
       "    <tr>\n",
       "      <th>21</th>\n",
       "      <td>Luffy is a young man of average height with sh...</td>\n",
       "    </tr>\n",
       "    <tr>\n",
       "      <th>22</th>\n",
       "      <td>He is renowned for his trademark yellow straw ...</td>\n",
       "    </tr>\n",
       "    <tr>\n",
       "      <th>23</th>\n",
       "      <td>Roger.</td>\n",
       "    </tr>\n",
       "    <tr>\n",
       "      <th>24</th>\n",
       "      <td>Before the timeskip, his main outfit consiste...</td>\n",
       "    </tr>\n",
       "    <tr>\n",
       "      <th>25</th>\n",
       "      <td>Luffy also has a scar with two stitches undern...</td>\n",
       "    </tr>\n",
       "    <tr>\n",
       "      <th>26</th>\n",
       "      <td>He was severely wounded by Akainu in the Summ...</td>\n",
       "    </tr>\n",
       "    <tr>\n",
       "      <th>27</th>\n",
       "      <td></td>\n",
       "    </tr>\n",
       "    <tr>\n",
       "      <th>28</th>\n",
       "      <td>Similar to most of his male crewmates, Luffy h...</td>\n",
       "    </tr>\n",
       "    <tr>\n",
       "      <th>29</th>\n",
       "      <td>Luffy will often wear a different outfit to su...</td>\n",
       "    </tr>\n",
       "    <tr>\n",
       "      <th>30</th>\n",
       "      <td>Despite this, he will wear his usual outfit in...</td>\n",
       "    </tr>\n",
       "    <tr>\n",
       "      <th>31</th>\n",
       "      <td>According to Eiichiro Oda in 37 Volume SBS, Lu...</td>\n",
       "    </tr>\n",
       "    <tr>\n",
       "      <th>32</th>\n",
       "      <td></td>\n",
       "    </tr>\n",
       "    <tr>\n",
       "      <th>33</th>\n",
       "      <td>No matter where he is, Luffy wears his Straw H...</td>\n",
       "    </tr>\n",
       "    <tr>\n",
       "      <th>34</th>\n",
       "      <td>From the Arabasta Arc onward, he has gotten a ...</td>\n",
       "    </tr>\n",
       "    <tr>\n",
       "      <th>35</th>\n",
       "      <td>During his return to Marineford to give a sile...</td>\n",
       "    </tr>\n",
       "    <tr>\n",
       "      <th>36</th>\n",
       "      <td></td>\n",
       "    </tr>\n",
       "    <tr>\n",
       "      <th>37</th>\n",
       "      <td>During his journey, Luffy has used the power o...</td>\n",
       "    </tr>\n",
       "    <tr>\n",
       "      <th>38</th>\n",
       "      <td>The greatest example of his altered appearance...</td>\n",
       "    </tr>\n",
       "    <tr>\n",
       "      <th>39</th>\n",
       "      <td>After those two years, a few things have changed.</td>\n",
       "    </tr>\n",
       "    <tr>\n",
       "      <th>40</th>\n",
       "      <td>He has grown slightly taller and is shown to b...</td>\n",
       "    </tr>\n",
       "    <tr>\n",
       "      <th>41</th>\n",
       "      <td>This can be seen in his slightly thicker neck,...</td>\n",
       "    </tr>\n",
       "    <tr>\n",
       "      <th>42</th>\n",
       "      <td>His new \"main\" outfit retains his straw hat a...</td>\n",
       "    </tr>\n",
       "    <tr>\n",
       "      <th>43</th>\n",
       "      <td>Due to Luffy's increasing notoriety in additio...</td>\n",
       "    </tr>\n",
       "    <tr>\n",
       "      <th>44</th>\n",
       "      <td>Despite this, he still never loses his tradema...</td>\n",
       "    </tr>\n",
       "    <tr>\n",
       "      <th>45</th>\n",
       "      <td>After the two-year timeskip, Luffy developed a...</td>\n",
       "    </tr>\n",
       "    <tr>\n",
       "      <th>46</th>\n",
       "      <td>Similarly to the main series, Luffy wears his ...</td>\n",
       "    </tr>\n",
       "    <tr>\n",
       "      <th>47</th>\n",
       "      <td>Starting with Movie 11, his standard wear is c...</td>\n",
       "    </tr>\n",
       "  </tbody>\n",
       "</table>\n",
       "</div>"
      ],
      "text/plain": [
       "                                            Sentences\n",
       "0   Straw Hat Grand Fleet;Four Emperors;Clan of D....\n",
       "1   Luffy-tarou (ルフィ太郎, Rufitarō?, English version...\n",
       "2                          )Joy Boy (ジョイボーイ, Joi Bōi?\n",
       "3                                                   )\n",
       "4               17 (pre-timeskip);19 (after timeskip)\n",
       "5   172 cm (5'8\") (pre-timeskip)174 cm (5'9\") (aft...\n",
       "6   1,500,000,000500,000,000400,000,000300,000,000...\n",
       "7   Monkey D. Luffy, commonly known as \"Straw Hat ...\n",
       "8    He fearlessly pursues the legendary treasure ...\n",
       "9    He believes that being the Pirate King means ...\n",
       "10                                                   \n",
       "11  Born on Dawn Island, Luffy is the son of Revol...\n",
       "12   However, he draws his greatest inspiration fr...\n",
       "13                                                   \n",
       "14  As a pirate, Luffy has actively opposed countl...\n",
       "15  Despite his young age and relatively short car...\n",
       "16  At the same time, he carries a great penchant ...\n",
       "17  Luffy has gained wide infamy through his accom...\n",
       "18   Currently, he is recognized as a central memb...\n",
       "19   Since the awakening of the Gomu Gomu no Mi af...\n",
       "20  He is the main protagonist of the One Piece ma...\n",
       "21  Luffy is a young man of average height with sh...\n",
       "22  He is renowned for his trademark yellow straw ...\n",
       "23                                             Roger.\n",
       "24   Before the timeskip, his main outfit consiste...\n",
       "25  Luffy also has a scar with two stitches undern...\n",
       "26   He was severely wounded by Akainu in the Summ...\n",
       "27                                                   \n",
       "28  Similar to most of his male crewmates, Luffy h...\n",
       "29  Luffy will often wear a different outfit to su...\n",
       "30  Despite this, he will wear his usual outfit in...\n",
       "31  According to Eiichiro Oda in 37 Volume SBS, Lu...\n",
       "32                                                   \n",
       "33  No matter where he is, Luffy wears his Straw H...\n",
       "34  From the Arabasta Arc onward, he has gotten a ...\n",
       "35  During his return to Marineford to give a sile...\n",
       "36                                                   \n",
       "37  During his journey, Luffy has used the power o...\n",
       "38  The greatest example of his altered appearance...\n",
       "39  After those two years, a few things have changed.\n",
       "40  He has grown slightly taller and is shown to b...\n",
       "41  This can be seen in his slightly thicker neck,...\n",
       "42   His new \"main\" outfit retains his straw hat a...\n",
       "43  Due to Luffy's increasing notoriety in additio...\n",
       "44  Despite this, he still never loses his tradema...\n",
       "45  After the two-year timeskip, Luffy developed a...\n",
       "46  Similarly to the main series, Luffy wears his ...\n",
       "47  Starting with Movie 11, his standard wear is c..."
      ]
     },
     "execution_count": 23,
     "metadata": {},
     "output_type": "execute_result"
    }
   ],
   "source": [
    "cleaned_df"
   ]
  },
  {
   "cell_type": "code",
   "execution_count": 29,
   "id": "5f8da053",
   "metadata": {},
   "outputs": [],
   "source": [
    "cleaned_df.to_excel('luffy_updated.xlsx', index=False)"
   ]
  },
  {
   "cell_type": "code",
   "execution_count": 36,
   "id": "7138cd93",
   "metadata": {},
   "outputs": [],
   "source": [
    "import os\n",
    "\n",
    "file_path = \"luffy_updated.xlsx\"\n",
    "os.startfile(file_path)"
   ]
  },
  {
   "cell_type": "code",
   "execution_count": 32,
   "id": "2c67d4c7",
   "metadata": {},
   "outputs": [],
   "source": [
    "luffy_life = pd.read_excel('luffy_updated.xlsx')"
   ]
  },
  {
   "cell_type": "code",
   "execution_count": 34,
   "id": "bf0009ba",
   "metadata": {},
   "outputs": [
    {
     "data": {
      "text/html": [
       "<div>\n",
       "<style scoped>\n",
       "    .dataframe tbody tr th:only-of-type {\n",
       "        vertical-align: middle;\n",
       "    }\n",
       "\n",
       "    .dataframe tbody tr th {\n",
       "        vertical-align: top;\n",
       "    }\n",
       "\n",
       "    .dataframe thead th {\n",
       "        text-align: right;\n",
       "    }\n",
       "</style>\n",
       "<table border=\"1\" class=\"dataframe\">\n",
       "  <thead>\n",
       "    <tr style=\"text-align: right;\">\n",
       "      <th></th>\n",
       "      <th>Sentences</th>\n",
       "    </tr>\n",
       "  </thead>\n",
       "  <tbody>\n",
       "    <tr>\n",
       "      <th>0</th>\n",
       "      <td>Straw Hat Grand Fleet;Four Emperors;Clan of D....</td>\n",
       "    </tr>\n",
       "    <tr>\n",
       "      <th>1</th>\n",
       "      <td>Luffy-tarou (ルフィ太郎, Rufitarō?, English version...</td>\n",
       "    </tr>\n",
       "    <tr>\n",
       "      <th>2</th>\n",
       "      <td>)Joy Boy (ジョイボーイ, Joi Bōi?</td>\n",
       "    </tr>\n",
       "    <tr>\n",
       "      <th>3</th>\n",
       "      <td>17 (pre-timeskip);19 (after timeskip)</td>\n",
       "    </tr>\n",
       "    <tr>\n",
       "      <th>4</th>\n",
       "      <td>172 cm (5'8\") (pre-timeskip)174 cm (5'9\") (aft...</td>\n",
       "    </tr>\n",
       "    <tr>\n",
       "      <th>5</th>\n",
       "      <td>1,500,000,000500,000,000400,000,000300,000,000...</td>\n",
       "    </tr>\n",
       "    <tr>\n",
       "      <th>6</th>\n",
       "      <td>Monkey D. Luffy, commonly known as \"Straw Hat ...</td>\n",
       "    </tr>\n",
       "    <tr>\n",
       "      <th>7</th>\n",
       "      <td>He fearlessly pursues the legendary treasure ...</td>\n",
       "    </tr>\n",
       "    <tr>\n",
       "      <th>8</th>\n",
       "      <td>He believes that being the Pirate King means ...</td>\n",
       "    </tr>\n",
       "    <tr>\n",
       "      <th>9</th>\n",
       "      <td>Born on Dawn Island, Luffy is the son of Revol...</td>\n",
       "    </tr>\n",
       "  </tbody>\n",
       "</table>\n",
       "</div>"
      ],
      "text/plain": [
       "                                           Sentences\n",
       "0  Straw Hat Grand Fleet;Four Emperors;Clan of D....\n",
       "1  Luffy-tarou (ルフィ太郎, Rufitarō?, English version...\n",
       "2                         )Joy Boy (ジョイボーイ, Joi Bōi?\n",
       "3              17 (pre-timeskip);19 (after timeskip)\n",
       "4  172 cm (5'8\") (pre-timeskip)174 cm (5'9\") (aft...\n",
       "5  1,500,000,000500,000,000400,000,000300,000,000...\n",
       "6  Monkey D. Luffy, commonly known as \"Straw Hat ...\n",
       "7   He fearlessly pursues the legendary treasure ...\n",
       "8   He believes that being the Pirate King means ...\n",
       "9  Born on Dawn Island, Luffy is the son of Revol..."
      ]
     },
     "execution_count": 34,
     "metadata": {},
     "output_type": "execute_result"
    }
   ],
   "source": [
    "luffy_life.head(10)"
   ]
  },
  {
   "cell_type": "code",
   "execution_count": 35,
   "id": "86164469",
   "metadata": {},
   "outputs": [
    {
     "name": "stderr",
     "output_type": "stream",
     "text": [
      "[nltk_data] Downloading package vader_lexicon to\n",
      "[nltk_data]     C:\\Users\\DELL\\AppData\\Roaming\\nltk_data...\n"
     ]
    }
   ],
   "source": [
    "nltk.download('vader_lexicon')\n",
    "from nltk.sentiment import SentimentIntensityAnalyzer\n",
    "\n",
    "# Assuming 'snape_life' is your DataFrame\n",
    "luffy_life['Sentences'] = luffy_life['Sentences'].fillna('')  # Replace NaN with an empty string\n",
    "\n",
    "# Initialize the Sentiment Intensity Analyzer\n",
    "sia = SentimentIntensityAnalyzer()\n",
    "\n",
    "# Create a new column 'Sentiment' with sentiment scores\n",
    "luffy_life['Sentiment'] = luffy_life['Sentences'].apply(lambda x: sia.polarity_scores(x)['compound'])"
   ]
  },
  {
   "cell_type": "code",
   "execution_count": 41,
   "id": "aeaccb73",
   "metadata": {},
   "outputs": [
    {
     "name": "stdout",
     "output_type": "stream",
     "text": [
      "Sentiment analysis completed! Results saved in 'luffy_sentiment_analysis.xlsx'.\n"
     ]
    }
   ],
   "source": [
    "# Define Sentiment thresholds\n",
    "threshold_angry = -0.7\n",
    "threshold_anguish = -0.5\n",
    "threshold_contempt = -0.05\n",
    "threshold_worry = 0\n",
    "threshold_ambiguity = 0.1\n",
    "threshold_affection = 0.2  \n",
    "threshold_sacrifice = 0.3\n",
    "threshold_protectiveness = 0.5\n",
    "threshold_sarcasm = 0.6\n",
    "\n",
    "# Create conditions and labels\n",
    "conditions = [\n",
    "    luffy_life['Sentiment'] <= threshold_angry,\n",
    "    (luffy_life['Sentiment'] > threshold_angry) & (luffy_life['Sentiment'] <= threshold_anguish),\n",
    "    (luffy_life['Sentiment'] > threshold_anguish) & (luffy_life['Sentiment'] <= threshold_contempt),\n",
    "    (luffy_life['Sentiment'] > threshold_contempt) & (luffy_life['Sentiment'] <= threshold_worry),\n",
    "    (luffy_life['Sentiment'] > threshold_worry) & (luffy_life['Sentiment'] <= threshold_ambiguity),\n",
    "    (luffy_life['Sentiment'] > threshold_ambiguity) & (luffy_life['Sentiment'] <= threshold_affection),\n",
    "    (luffy_life['Sentiment'] > threshold_affection) & (luffy_life['Sentiment'] <= threshold_sacrifice),\n",
    "    (luffy_life['Sentiment'] > threshold_sacrifice) & (luffy_life['Sentiment'] <= threshold_protectiveness),\n",
    "    (luffy_life['Sentiment'] > threshold_protectiveness) & (luffy_life['Sentiment'] <= threshold_sarcasm),\n",
    "    luffy_life['Sentiment'] > threshold_sarcasm\n",
    "]\n",
    "\n",
    "labels = ['angry', 'anguish', 'contempt', 'worry', 'ambiguity', 'affection', 'sacrifice', 'protectiveness', 'sarcasm', 'unknown']\n",
    "\n",
    "# Assign emotion category\n",
    "luffy_life['Emotion_Category'] = np.select(conditions, labels, default='unknown')\n",
    "\n",
    "# Save the updated dataset to Excel\n",
    "luffy_life.to_excel(\"luffy_sentiment_analysis.xlsx\", index=False)\n",
    "\n",
    "print(\"Sentiment analysis completed! Results saved in 'luffy_sentiment_analysis.xlsx'.\")"
   ]
  },
  {
   "cell_type": "code",
   "execution_count": 42,
   "id": "ad7cc459",
   "metadata": {},
   "outputs": [
    {
     "data": {
      "text/plain": [
       "worry             47.619048\n",
       "unknown           21.428571\n",
       "contempt          11.904762\n",
       "protectiveness     9.523810\n",
       "sacrifice          4.761905\n",
       "anguish            2.380952\n",
       "angry              2.380952\n",
       "Name: Emotion_Category, dtype: float64"
      ]
     },
     "execution_count": 42,
     "metadata": {},
     "output_type": "execute_result"
    }
   ],
   "source": [
    "emotion_percentages = luffy_life['Emotion_Category'].value_counts(normalize=True) * 100\n",
    "emotion_percentages\n"
   ]
  },
  {
   "cell_type": "code",
   "execution_count": 46,
   "id": "004d4c7e",
   "metadata": {},
   "outputs": [
    {
     "name": "stderr",
     "output_type": "stream",
     "text": [
      "[nltk_data] Downloading package stopwords to\n",
      "[nltk_data]     C:\\Users\\DELL\\AppData\\Roaming\\nltk_data...\n",
      "[nltk_data]   Package stopwords is already up-to-date!\n",
      "[nltk_data] Downloading package wordnet to\n",
      "[nltk_data]     C:\\Users\\DELL\\AppData\\Roaming\\nltk_data...\n"
     ]
    },
    {
     "data": {
      "text/plain": [
       "True"
      ]
     },
     "execution_count": 46,
     "metadata": {},
     "output_type": "execute_result"
    }
   ],
   "source": [
    "from nltk import FreqDist\n",
    "from nltk.tokenize import word_tokenize\n",
    "from nltk.corpus import stopwords\n",
    "from nltk.stem import WordNetLemmatizer\n",
    "\n",
    "nltk.download('stopwords')\n",
    "nltk.download('wordnet')\n"
   ]
  },
  {
   "cell_type": "code",
   "execution_count": 49,
   "id": "57a0b8af",
   "metadata": {},
   "outputs": [
    {
     "name": "stdout",
     "output_type": "stream",
     "text": [
      "The word 'luffy' appears 21 times.\n",
      "The word 'hat' appears 14 times.\n",
      "The word 'straw' appears 12 times.\n",
      "The word 'pirate' appears 11 times.\n",
      "The word 'outfit' appears 7 times.\n"
     ]
    }
   ],
   "source": [
    "all_text = ' '.join(luffy_life['Sentences'].astype(str))\n",
    "\n",
    "# Tokenize the text into words\n",
    "words = word_tokenize(all_text)\n",
    "\n",
    "# Remove stop words and punctuation\n",
    "stop_words = set(stopwords.words('english'))\n",
    "filtered_words = [word.lower() for word in words if word.isalnum() and word.lower() not in stop_words]\n",
    "\n",
    "# Lemmatize the words\n",
    "lemmatizer = WordNetLemmatizer()\n",
    "lemmatized_words = [lemmatizer.lemmatize(word) for word in filtered_words]\n",
    "\n",
    "# Calculate the frequency distribution of words\n",
    "freq_dist = FreqDist(lemmatized_words)\n",
    "\n",
    "# Find the top 5 most common words\n",
    "top_words = freq_dist.most_common(5)\n",
    "\n",
    "# Print the top 5 most common words and their frequencies\n",
    "for word, frequency in top_words:\n",
    "    print(f\"The word '{word}' appears {frequency} times.\")"
   ]
  },
  {
   "cell_type": "code",
   "execution_count": 48,
   "id": "43df31f2",
   "metadata": {},
   "outputs": [
    {
     "name": "stderr",
     "output_type": "stream",
     "text": [
      "[nltk_data] Downloading package omw-1.4 to\n",
      "[nltk_data]     C:\\Users\\DELL\\AppData\\Roaming\\nltk_data...\n",
      "[nltk_data] Downloading package wordnet to\n",
      "[nltk_data]     C:\\Users\\DELL\\AppData\\Roaming\\nltk_data...\n",
      "[nltk_data]   Package wordnet is already up-to-date!\n"
     ]
    },
    {
     "data": {
      "text/plain": [
       "True"
      ]
     },
     "execution_count": 48,
     "metadata": {},
     "output_type": "execute_result"
    }
   ],
   "source": [
    "import nltk\n",
    "nltk.download('omw-1.4')\n",
    "nltk.download('wordnet')\n"
   ]
  },
  {
   "cell_type": "code",
   "execution_count": 51,
   "id": "9202d14d",
   "metadata": {},
   "outputs": [],
   "source": [
    "luffy_life.to_csv('luffy_life_dataset.csv')"
   ]
  },
  {
   "cell_type": "code",
   "execution_count": 53,
   "id": "82b7c9b7",
   "metadata": {},
   "outputs": [],
   "source": [
    "file_path = \"luffy_life_dataset.csv\"\n",
    "os.startfile(file_path)"
   ]
  },
  {
   "cell_type": "code",
   "execution_count": 54,
   "id": "1fe8d4c0",
   "metadata": {},
   "outputs": [
    {
     "name": "stdout",
     "output_type": "stream",
     "text": [
      "Top 5 most-mentioned characters in Luffy's dialogue:\n",
      "Shanks: 3 times\n",
      "Nami: 2 times\n",
      "Ace: 2 times\n",
      "Garp: 2 times\n",
      "Akainu: 2 times\n"
     ]
    }
   ],
   "source": [
    "import nltk\n",
    "from collections import Counter\n",
    "\n",
    "# Define a list of One Piece character names (modify as needed)\n",
    "character_names = [\"Zoro\", \"Nami\", \"Sanji\", \"Usopp\", \"Chopper\", \"Robin\", \"Franky\", \"Brook\", \"Jinbe\",\n",
    "                   \"Ace\", \"Shanks\", \"Garp\", \"Kaido\", \"Doflamingo\", \"Crocodile\", \"Blackbeard\", \"Akainu\"]\n",
    "\n",
    "# Convert text to lowercase for case-insensitive matching\n",
    "all_text_lower = ' '.join(luffy_life['Sentences'].astype(str)).lower()\n",
    "\n",
    "# Count occurrences of each character name\n",
    "character_counts = Counter({name: all_text_lower.count(name.lower()) for name in character_names})\n",
    "\n",
    "# Get the top 5 most frequently mentioned characters\n",
    "top_5_characters = character_counts.most_common(5)\n",
    "\n",
    "# Print the results\n",
    "print(\"Top 5 most-mentioned characters in Luffy's dialogue:\")\n",
    "for name, count in top_5_characters:\n",
    "    print(f\"{name}: {count} times\")\n"
   ]
  },
  {
   "cell_type": "markdown",
   "id": "96f57cc2",
   "metadata": {},
   "source": [
    "Conclusion from Luffy's Most-Mentioned Characters\n",
    "From the analysis of Luffy's dialogue, we can see that the five most frequently mentioned characters are Shanks, Nami, Ace, Garp, and Akainu. This provides insight into the most influential figures in his journey, shaping his emotions, motivations, and relationships.\n",
    "\n",
    "Shanks (3 times) – As Luffy’s greatest inspiration and the man who set him on his pirate journey, it’s no surprise that Shanks is mentioned the most. His influence on Luffy’s ideals and dreams remains strong.\n",
    "\n",
    "\n",
    "Nami (2 times) – A close crewmate and navigator, Nami plays a crucial role in Luffy’s adventures. Her presence highlights the importance of friendship and trust in his crew.\n",
    "\n",
    "\n",
    "Ace (2 times) – Luffy’s deep bond with his brother is reflected in his frequent mentions. Ace’s presence in his thoughts signifies love, loss, and motivation.\n",
    "\n",
    "\n",
    "Garp (2 times) – As his grandfather and a Marine hero, Garp represents both family and duty. His mentions indicate the personal struggle Luffy faces between freedom and expectations.\n",
    "\n",
    "Akainu (2 times) – The man responsible for Ace’s death, Akainu’s presence in Luffy’s dialogue shows lingering pain, revenge, and the impact of that tragic event on his life.\n"
   ]
  },
  {
   "cell_type": "code",
   "execution_count": null,
   "id": "566bdb8d",
   "metadata": {},
   "outputs": [],
   "source": []
  },
  {
   "cell_type": "code",
   "execution_count": null,
   "id": "215eb458",
   "metadata": {},
   "outputs": [],
   "source": []
  },
  {
   "cell_type": "code",
   "execution_count": null,
   "id": "85c6e1de",
   "metadata": {},
   "outputs": [],
   "source": []
  },
  {
   "cell_type": "code",
   "execution_count": null,
   "id": "efa7114d",
   "metadata": {},
   "outputs": [],
   "source": []
  }
 ],
 "metadata": {
  "kernelspec": {
   "display_name": "Python 3 (ipykernel)",
   "language": "python",
   "name": "python3"
  },
  "language_info": {
   "codemirror_mode": {
    "name": "ipython",
    "version": 3
   },
   "file_extension": ".py",
   "mimetype": "text/x-python",
   "name": "python",
   "nbconvert_exporter": "python",
   "pygments_lexer": "ipython3",
   "version": "3.9.13"
  }
 },
 "nbformat": 4,
 "nbformat_minor": 5
}
